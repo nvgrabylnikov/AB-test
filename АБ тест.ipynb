{
  "nbformat": 4,
  "nbformat_minor": 0,
  "metadata": {
    "colab": {
      "provenance": []
    },
    "kernelspec": {
      "name": "python3",
      "display_name": "Python 3"
    },
    "language_info": {
      "name": "python"
    }
  },
  "cells": [
    {
      "cell_type": "markdown",
      "source": [
        "**АБ тесты**\n"
      ],
      "metadata": {
        "id": "4rYjSwQWw9LK"
      }
    },
    {
      "cell_type": "markdown",
      "source": [
        "**Импорт необходимых модулей**"
      ],
      "metadata": {
        "id": "3JMFzufIKW1P"
      }
    },
    {
      "cell_type": "code",
      "source": [
        "import matplotlib.pyplot as plt\n",
        "import seaborn as sns\n",
        "import numpy as np\n",
        "import random as rnd\n",
        "from scipy import stats\n",
        "from tqdm import tqdm"
      ],
      "metadata": {
        "id": "i30QmvzuJHZh"
      },
      "execution_count": 2,
      "outputs": []
    },
    {
      "cell_type": "markdown",
      "source": [
        "**Моделирование данных**"
      ],
      "metadata": {
        "id": "6HTzH0ZGKcY9"
      }
    },
    {
      "cell_type": "code",
      "source": [
        "rnd.seed(0) # строчка нужна чтобы случайные числа были одинаковыми от запуска к запуску\n",
        "np.random.seed(0) # вторая строка нужная чтобы случайные числа были одинаковыми от запуска к запуску\n",
        "\n",
        "true_effect = 0.06 # настоящий эффект увеличения среднего чека, который приносит перестановка пицц. Относительный. Альтерантивная гипотеза mean1 = mean0*(1 + MDE)\n",
        "# для однохвостового эксперимента на увечичение true_effect >= 0\n",
        "\n",
        "# средние чеки клиентов на исторических данных компании\n",
        "L0 = np.array(list(stats.norm(60, 20).rvs(size=600)) + [150]*200 + list(stats.norm(120, 30).rvs(size=600))) \n",
        "\n",
        "# моделируем, что средний чек увеличится на true_effect %. Сможем ли мы обнаружить это увеличение а АБ тесте?\n",
        "L1 = L0 * (1 + true_effect)\n",
        "\n",
        "print('Средний чек обычного расположения пицц Н0:', np.mean(L0))\n",
        "print('Средний чек, предпологаемо увеличится H1:', np.mean(L1))\n",
        "print(f'Разница {int((np.mean(L1)/np.mean(L0) - 1)*100)}%')\n",
        "\n",
        "plt.xlabel('Средний чек')\n",
        "sns.histplot(L0, color='green', label='H0')\n",
        "sns.histplot(L1, color='red', label='H1')\n",
        "plt.legend();"
      ],
      "metadata": {
        "colab": {
          "base_uri": "https://localhost:8080/",
          "height": 331
        },
        "id": "9PNEQoupL-3x",
        "outputId": "0497cfeb-ef08-42b1-cfcb-139af017b51f"
      },
      "execution_count": 3,
      "outputs": [
        {
          "output_type": "stream",
          "name": "stdout",
          "text": [
            "Средний чек обычного расположения пицц Н0: 98.24890598504463\n",
            "Средний чек, предпологаемо увеличится H1: 104.14384034414732\n",
            "Разница 6%\n"
          ]
        },
        {
          "output_type": "display_data",
          "data": {
            "text/plain": [
              "<Figure size 432x288 with 1 Axes>"
            ],
            "image/png": "[encoded data removed]"
          },
          "metadata": {
            "needs_background": "light"
          }
        }
      ]
    },
    {
      "cell_type": "markdown",
      "source": [
        "**Сейчас стадия планирования эксперимента. Мы не знаем, какой эффект будет, лишь предполагаем значение true_effect. Это значение всегда можно поменять в симуляции**"
      ],
      "metadata": {
        "id": "tYyZLO9r4KNX"
      }
    },
    {
      "cell_type": "markdown",
      "source": [
        "**Объявление функции симуляции одного АБ-теста**"
      ],
      "metadata": {
        "id": "FvXpeH6_Ky2z"
      }
    },
    {
      "cell_type": "code",
      "source": [
        "def one_ab_test(na, nb, La, Lb):\n",
        "  sub_a = [rnd.choice(La) for _ in range(na)] # из генеральной совокупности La выборка случайных na элементов\n",
        "  sub_b = [rnd.choice(Lb) for _ in range(nb)] # из генеральной совокупности Lb выборка случайных na элементов\n",
        "  return stats.ttest_ind(sub_a, sub_b).pvalue # проведение Т-теста, расчет p_value"
      ],
      "metadata": {
        "id": "N-ynIxuA4chi"
      },
      "execution_count": 4,
      "outputs": []
    },
    {
      "cell_type": "markdown",
      "source": [
        "# **Задание №0**\n",
        "\n",
        "**Найдите любое na, чтобы при true_effect = 0.06 различия получились бы статистически значимыми**"
      ],
      "metadata": {
        "id": "1pURhbUevBVA"
      }
    },
    {
      "cell_type": "code",
      "source": [
        "rnd.seed(0)\n",
        "np.random.seed(seed=0)\n",
        "\n",
        "na = 8932\n",
        "\n",
        "nb = 100\n",
        "pvalue = one_ab_test(na, nb, L0, L1)\n",
        "print('В результате получили pvalue', pvalue)\n",
        "alpha = 0.05\n",
        "if pvalue < alpha:\n",
        "  print('В эксперименте мы обнаружили значимое различие. Объём выборки достаточен')\n",
        "else:\n",
        "  print('В эксперименте мы не обнаружили значимых различий. Объём выборки маловат')\n",
        "print(f'Из совокупности L0 нужно выбрать {na} элемента, чтобы получить статистически значимые различия')"
      ],
      "metadata": {
        "colab": {
          "base_uri": "https://localhost:8080/"
        },
        "id": "CbVvlzmmhcWh",
        "outputId": "bd4454ac-f21d-4562-d1cc-2635df9e4b21"
      },
      "execution_count": 6,
      "outputs": [
        {
          "output_type": "stream",
          "name": "stdout",
          "text": [
            "В результате получили pvalue 0.04774367029659804\n",
            "В эксперименте мы обнаружили значимое различие. Объём выборки достаточен\n",
            "Из совокупности L0 нужно выбрать 8932 элемента, чтобы получить статистически значимые различия\n"
          ]
        }
      ]
    },
    {
      "cell_type": "markdown",
      "source": [
        "#**Задание №1**\n",
        "**Для true_effect = 0.01, найдите любые такие na и nb, чтобы результат эксперимента был значим. Но при (na - 40) и (nb - 40) результат эксперимента уже не значим**\n"
      ],
      "metadata": {
        "id": "Yd8byFte6Yj7"
      }
    },
    {
      "cell_type": "code",
      "source": [
        "rnd.seed(0)\n",
        "np.random.seed(seed=0)\n",
        "\n",
        "true_effect = 0.01\n",
        "L1 = L0 * (1 + true_effect)\n",
        "\n",
        "na = 19810\n",
        "nb = 19810\n",
        "\n",
        "pvalue = one_ab_test(na, nb, L0, L1)\n",
        "print('В результате получили pvalue', pvalue)\n",
        "\n",
        "alpha = 0.05\n",
        "if pvalue < alpha:\n",
        "  print('В эксперименте мы обнаружили значимое различие. Объём выборки достаточен')\n",
        "else:\n",
        "  print('В эксперименте мы не обнаружили значимых различий. Объём выборки маловат')\n",
        "print(f'Значение na={na}, значение nb={nb}')"
      ],
      "metadata": {
        "colab": {
          "base_uri": "https://localhost:8080/"
        },
        "id": "8EEhq8WIiNpM",
        "outputId": "3892195f-4b61-4c62-c6a6-0bb2278a8e59"
      },
      "execution_count": 7,
      "outputs": [
        {
          "output_type": "stream",
          "name": "stdout",
          "text": [
            "В результате получили pvalue 0.0476934171078091\n",
            "В эксперименте мы обнаружили значимое различие. Объём выборки достаточен\n",
            "Значение na=19810, значение nb=19810\n"
          ]
        }
      ]
    },
    {
      "cell_type": "markdown",
      "source": [
        "#**Задание №2**\n",
        "**Для true_effect = 0.10, найдите любые такие na и nb, чтобы результат эксперимента был значим. Но при (na - 40) и (nb - 40) результат эксперимента уже не значим. Используйте rnd.seed(0)**"
      ],
      "metadata": {
        "id": "vkul3NcI7xEc"
      }
    },
    {
      "cell_type": "code",
      "source": [
        "rnd.seed(0)\n",
        "np.random.seed(seed=0)\n",
        "\n",
        "true_effect = 0.1\n",
        "L1 = L0 * (1 + true_effect)\n",
        "\n",
        "na = 168\n",
        "nb = 168\n",
        "\n",
        "pvalue = one_ab_test(na, nb, L0, L1)\n",
        "print('В результате получили pvalue', pvalue)\n",
        "\n",
        "alpha = 0.05\n",
        "if pvalue < alpha:\n",
        "  print('В эксперименте мы обнаружили значимое различие. Объём выборки достаточен')\n",
        "else:\n",
        "  print('В эксперименте мы не обнаружили значимых различий. Объём выборки маловат')\n",
        "print(f'Значение na={na}, значение nb={nb}')"
      ],
      "metadata": {
        "colab": {
          "base_uri": "https://localhost:8080/"
        },
        "id": "_op3hmrjrtcC",
        "outputId": "b51f9554-ee5c-486c-cc1a-b87b5322380c"
      },
      "execution_count": 8,
      "outputs": [
        {
          "output_type": "stream",
          "name": "stdout",
          "text": [
            "В результате получили pvalue 0.04720043138011488\n",
            "В эксперименте мы обнаружили значимое различие. Объём выборки достаточен\n",
            "Значение na=168, значение nb=168\n"
          ]
        }
      ]
    },
    {
      "cell_type": "markdown",
      "source": [
        "#**Задание №3**\n",
        "**Для true_effect = 0.30, найдите любые такие na и nb, чтобы результат эксперимента был значим. Но при (na - 40) и (nb - 40) результат эксперимента уже не значим. Используйте rnd.seed(0)**"
      ],
      "metadata": {
        "id": "8uy1HFjO8Crk"
      }
    },
    {
      "cell_type": "code",
      "source": [
        "rnd.seed(0)\n",
        "np.random.seed(seed=0)\n",
        "\n",
        "true_effect = 0.3\n",
        "L1 = L0 * (1 + true_effect)\n",
        "\n",
        "na = 59\n",
        "nb = 59\n",
        "\n",
        "pvalue = one_ab_test(na, nb, L0, L1)\n",
        "print('В результате получили pvalue', pvalue)\n",
        "\n",
        "alpha = 0.05\n",
        "if pvalue < alpha:\n",
        "  print('В эксперименте мы обнаружили значимое различие. Объём выборки достаточен')\n",
        "else:\n",
        "  print('В эксперименте мы не обнаружили значимых различий. Объём выборки маловат')\n",
        "print(f'Значение na={na}, значение nb={nb}')"
      ],
      "metadata": {
        "colab": {
          "base_uri": "https://localhost:8080/"
        },
        "id": "QdlDANqzixNL",
        "outputId": "a4524a91-0e06-42e8-e8a5-d6496c5768aa"
      },
      "execution_count": 9,
      "outputs": [
        {
          "output_type": "stream",
          "name": "stdout",
          "text": [
            "В результате получили pvalue 0.035253624105105824\n",
            "В эксперименте мы обнаружили значимое различие. Объём выборки достаточен\n",
            "Значение na=59, значение nb=59\n"
          ]
        }
      ]
    },
    {
      "cell_type": "markdown",
      "source": [
        "#**Задание №4**\n",
        "**Для na = 100, nb = 100 подберите минимальный true_effect, чтобы результат эксперимента был значим, но (true_effect - 0.02) результат не значим (придётся перезапускать ячейку с true_effect). Используйте rnd.seed(0)**"
      ],
      "metadata": {
        "id": "h_9ZSdVI91Gc"
      }
    },
    {
      "cell_type": "code",
      "source": [
        "rnd.seed(0)\n",
        "np.random.seed(seed=0)\n",
        "\n",
        "true_effect = 0.0948\n",
        "\n",
        "L1 = L0 * (1 + true_effect)\n",
        "na = 100\n",
        "nb = 100\n",
        "one_ab_test(na, nb, L0, L1)\n",
        "pvalue = one_ab_test(na, nb, L0, L1)\n",
        "print('В результате получили pvalue', pvalue)\n",
        "\n",
        "alpha = 0.05\n",
        "if pvalue < alpha:\n",
        "  print('В эксперименте мы обнаружили значимое различие. Объём выборки достаточен')\n",
        "else:\n",
        "  print('В эксперименте мы не обнаружили значимых различий. Объём выборки маловат')\n",
        "print(f'Значение true_effect={true_effect}')"
      ],
      "metadata": {
        "colab": {
          "base_uri": "https://localhost:8080/"
        },
        "id": "bMAPalsejM_4",
        "outputId": "2c141ed9-3a24-408d-ff6e-64e5bc816258"
      },
      "execution_count": null,
      "outputs": [
        {
          "output_type": "stream",
          "name": "stdout",
          "text": [
            "В результате получили pvalue 0.04983933882642012\n",
            "В эксперименте мы обнаружили значимое различие. Объём выборки достаточен\n",
            "Значение true_effect=0.0948\n"
          ]
        }
      ]
    },
    {
      "cell_type": "markdown",
      "source": [
        "#**Задание №5**\n",
        "**Для na = 1000, nb = 1000 подберите минимальный true_effect, чтобы результат эксперимента был значим, но (true_effect - 0.02) результат не значим. Используйте rnd.seed(0)**"
      ],
      "metadata": {
        "id": "OZvJjNEP-wtc"
      }
    },
    {
      "cell_type": "code",
      "source": [
        "rnd.seed(0)\n",
        "np.random.seed(seed=0)\n",
        "\n",
        "true_effect = 0.0659\n",
        "\n",
        "L1 = L0 * (1 + true_effect)\n",
        "na = 1000\n",
        "nb = 1000\n",
        "one_ab_test(na, nb, L0, L1)\n",
        "pvalue = one_ab_test(na, nb, L0, L1)\n",
        "print('В результате получили pvalue', pvalue)\n",
        "\n",
        "alpha = 0.05\n",
        "if pvalue < alpha:\n",
        "  print('В эксперименте мы обнаружили значимое различие. Объём выборки достаточен')\n",
        "else:\n",
        "  print('В эксперименте мы не обнаружили значимых различий. Объём выборки маловат')\n",
        "print(f'Значение true_effect={true_effect}')"
      ],
      "metadata": {
        "colab": {
          "base_uri": "https://localhost:8080/"
        },
        "id": "VSCKKCgsl7ww",
        "outputId": "8c116549-3070-432b-ace9-8886d6f777f7"
      },
      "execution_count": null,
      "outputs": [
        {
          "output_type": "stream",
          "name": "stdout",
          "text": [
            "В результате получили pvalue 0.04986746982127612\n",
            "В эксперименте мы обнаружили значимое различие. Объём выборки достаточен\n",
            "Значение true_effect=0.0659\n"
          ]
        }
      ]
    },
    {
      "cell_type": "markdown",
      "source": [
        "*Минимально обнаружимый эффект: **MDE**. При данных alpha, beta, na, nb.* MDE = min(true_effect)\n",
        "<br>MDE больше - меньше время проведения - меньше затрат - меньше точность\n",
        "<br>МDE меньше - больше время проведения - больше затрат - больше точность \n",
        "<br>Нужно искать золотую середину"
      ],
      "metadata": {
        "id": "4gshmrREBeBK"
      }
    },
    {
      "cell_type": "markdown",
      "source": [
        "#**Задание №6**\n",
        "**Установите стандартные значения alpha и beta. Менеджер выделил на ваш эксперимент 30 дней. Поток клиентов 20 человек в день (часть в группу А, другая часть в группу Б). Рассчитайте минимальный true_effect для такой продолжительности эксперимента. Минимальный, значит, что при true_effect можем засечь, а true_effect - 0.01 уже не сможем. Используйте rnd.seed(0)**\n"
      ],
      "metadata": {
        "id": "LNlLtFktJGYT"
      }
    },
    {
      "cell_type": "code",
      "source": [
        "rnd.seed(0)\n",
        "np.random.seed(0)\n",
        "\n",
        "true_effect = 0.1051\n",
        "\n",
        "alpha = 0.05\n",
        "beta = 0.20 \n",
        "N = 300 #Всего поток 30*20 = 600, делим пополам для А и Б, получится 300\n",
        "\n",
        "# здесь всё ещё случайное распределение симулирующее средний чек. На практике L0 - ваши исторические данные по этой метрике\n",
        "L0 = np.array(list(stats.norm(60, 20).rvs(size=600)) + [150]*200 + list(stats.norm(120, 30).rvs(size=600))) \n",
        "L1 = L0 * (1 + true_effect)\n",
        "p_values = [one_ab_test(N, N, L0, L1) for _ in tqdm(range(1000)) ] \n",
        "\n",
        "error2 = [pv for pv in p_values if pv > alpha]\n",
        "print('\\nОшибку 2 рода мы совершили в', len(error2)/len(p_values), 'доле случаев')\n",
        "\n",
        "if len(error2)/len(p_values) < beta:\n",
        "  print('Вероятность ошибки II рода удовлетворительная. Объём выборок подходящий. Эксперимент можно запускать')\n",
        "else:\n",
        "  print('Вероятность ошибки II рода cлишком большая. Объём выборок чересчур маленький. Эксперимент не сможет засечь различие межу А и Б величиной', true_effect);\n",
        "print(f'Значение true_effect={true_effect}')"
      ],
      "metadata": {
        "colab": {
          "base_uri": "https://localhost:8080/"
        },
        "id": "7vM_DZcZtUhi",
        "outputId": "1e188f86-6935-4193-c61e-166142593c7b"
      },
      "execution_count": null,
      "outputs": [
        {
          "output_type": "stream",
          "name": "stderr",
          "text": [
            "100%|██████████| 1000/1000 [00:00<00:00, 1199.97it/s]"
          ]
        },
        {
          "output_type": "stream",
          "name": "stdout",
          "text": [
            "\n",
            "Ошибку 2 рода мы совершили в 0.197 доле случаев\n",
            "Вероятность ошибки II рода удовлетворительная. Объём выборок подходящий. Эксперимент можно запускать\n"
          ]
        },
        {
          "output_type": "stream",
          "name": "stderr",
          "text": [
            "\n"
          ]
        }
      ]
    },
    {
      "cell_type": "markdown",
      "source": [
        "#**Задание №7**\n",
        "**Установите стандартное значения alpha. Менеджер попросил построить такой эксперимент, чтобы точно обнаружить разницу в среднем чеке 1%. Поток клиентов 20 человек в день (часть в группу А, другая часть в группу Б). Если менеджеру принципиально обнаружить эффект, вы не хотите совершить ошибку II рода. Выберите любой beta лучше того, который принят в индустрии. Расчитайте продолжительность эксперимента для таких параметров. Используйте rnd.seed(0)**\n"
      ],
      "metadata": {
        "id": "vemOlrCMKoxc"
      }
    },
    {
      "cell_type": "code",
      "source": [
        "rnd.seed(0)\n",
        "np.random.seed(0)\n",
        "\n",
        "true_effect = 0.01\n",
        "alpha = 0.05\n",
        "\n",
        "beta = 0.15 \n",
        "\n",
        "N = 32900\n",
        "\n",
        "# здесь всё ещё случайное распределение симулирующее средний чек. На практике L0 - ваши исторические данные по этой метрике\n",
        "L0 = np.array(list(stats.norm(60, 20).rvs(size=600)) + [150]*200 + list(stats.norm(120, 30).rvs(size=600))) \n",
        "\n",
        "L1 = L0 * (1 + true_effect)\n",
        "p_values = [one_ab_test(N, N, L0, L1) for _ in tqdm(range(1000)) ] \n",
        "\n",
        "error2 = [pv for pv in p_values if pv > alpha]\n",
        "\n",
        "print('\\nОшибку 2 рода мы совершили в', len(error2)/len(p_values), 'доле случаев')\n",
        "\n",
        "if len(error2)/len(p_values) < beta:\n",
        "  print('Вероятность ошибки II рода удовлетворительная. Объём выборок подходящий. Эксперимент можно запускать')\n",
        "else:\n",
        "  print('Вероятность ошибки II рода cлишком большая. Объём выборок чересчур маленький. Эксперимент не сможет засечь различие межу А и Б величиной', true_effect);\n",
        "print(f'Продолжительность эксперимента составит {N/20} дней')"
      ],
      "metadata": {
        "colab": {
          "base_uri": "https://localhost:8080/"
        },
        "id": "4zpR_oOVnUCD",
        "outputId": "95634bee-deb2-4429-f356-9347f962554b"
      },
      "execution_count": null,
      "outputs": [
        {
          "output_type": "stream",
          "name": "stderr",
          "text": [
            "100%|██████████| 1000/1000 [00:56<00:00, 17.69it/s]"
          ]
        },
        {
          "output_type": "stream",
          "name": "stdout",
          "text": [
            "\n",
            "Ошибку 2 рода мы совершили в 0.142 доле случаев\n",
            "Вероятность ошибки II рода удовлетворительная. Объём выборок подходящий. Эксперимент можно запускать\n",
            "Продолжительность эксперимента составит 1645.0 дней\n"
          ]
        },
        {
          "output_type": "stream",
          "name": "stderr",
          "text": [
            "\n"
          ]
        }
      ]
    },
    {
      "cell_type": "markdown",
      "source": [
        "#**Задание №8**\n",
        "**Появилась мысль, что работающая сейчас система скидок занижает нам средний чек. Хотим отключить половину потока клиентов от системы скидок. Ожидаем увеличение среднего чека на 12%. Если эффект меньше, согласны это не увидеть. Не хотим допустить ошибку I рода. Установите значения alpha, чтобы эксперимент был точнее, чем стандартное значние alpha. Поток клиентов 20 человек в день (часть в группу А, другая часть в группу Б). Рассчитайте продолжительность эксперимента для таких параметров. Используйте rnd.seed(0)**\n"
      ],
      "metadata": {
        "id": "ia3cz99zy3c-"
      }
    },
    {
      "cell_type": "code",
      "source": [
        "rnd.seed(0)\n",
        "np.random.seed(0)\n",
        "\n",
        "true_effect = 0.12\n",
        "alpha = 0.01\n",
        "beta = 0.12 \n",
        "N = 400   \n",
        "\n",
        "pvalue = one_ab_test(na, nb, L0, L1)\n",
        "print('В результате получили pvalue', pvalue)\n",
        "\n",
        "if pvalue < alpha:\n",
        "  print('В эксперименте мы обнаружили значимое различие. Объём выборки достаточен')\n",
        "else:\n",
        "  print('В эксперименте мы не обнаружили значимых различий. Объём выборки маловат')\n",
        "\n",
        "# здесь всё ещё случайное распределение симулирующее средний чек. На практике L0 - ваши исторические данные по этой метрике\n",
        "L0 = np.array(list(stats.norm(60, 20).rvs(size=600)) + [150]*200 + list(stats.norm(120, 30).rvs(size=600))) \n",
        "\n",
        "L1 = L0 * (1 + true_effect)\n",
        "p_values = [one_ab_test(N, N, L0, L1) for _ in tqdm(range(1000)) ] \n",
        "\n",
        "error2 = [pv for pv in p_values if pv > alpha]\n",
        "\n",
        "print('\\nОшибку 2 рода мы совершили в', len(error2)/len(p_values), 'доле случаев')\n",
        "\n",
        "if len(error2)/len(p_values) < beta:\n",
        "  print('Вероятность ошибки II рода удовлетворительная. Объём выборок подходящий. Эксперимент можно запускать')\n",
        "else:\n",
        "  print('Вероятность ошибки II рода cлишком большая. Объём выборок чересчур маленький. Эксперимент не сможет засечь различие межу А и Б величиной', true_effect);\n",
        "print(f'Продолжительность эксперимента составит {N/20} дней')"
      ],
      "metadata": {
        "colab": {
          "base_uri": "https://localhost:8080/"
        },
        "id": "UnHHXB2etfSJ",
        "outputId": "e2b86384-71af-4950-d5a2-d77da6084d80"
      },
      "execution_count": null,
      "outputs": [
        {
          "output_type": "stream",
          "name": "stdout",
          "text": [
            "В результате получили pvalue 0.0008666253120373769\n",
            "В эксперименте мы обнаружили значимое различие. Объём выборки достаточен\n"
          ]
        },
        {
          "output_type": "stream",
          "name": "stderr",
          "text": [
            "100%|██████████| 1000/1000 [00:01<00:00, 982.16it/s]"
          ]
        },
        {
          "output_type": "stream",
          "name": "stdout",
          "text": [
            "\n",
            "Ошибку 2 рода мы совершили в 0.11 доле случаев\n",
            "Вероятность ошибки II рода удовлетворительная. Объём выборок подходящий. Эксперимент можно запускать\n",
            "Продолжительность эксперимента составит 20.0 дней\n"
          ]
        },
        {
          "output_type": "stream",
          "name": "stderr",
          "text": [
            "\n"
          ]
        }
      ]
    }
  ]
}